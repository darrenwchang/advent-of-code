{
 "cells": [
  {
   "cell_type": "code",
   "execution_count": 2,
   "metadata": {},
   "outputs": [],
   "source": [
    "using DelimitedFiles"
   ]
  },
  {
   "cell_type": "code",
   "execution_count": 5,
   "metadata": {},
   "outputs": [
    {
     "data": {
      "text/plain": [
       "200×1 Array{Float64,2}:\n",
       " 1438.0\n",
       "  781.0\n",
       " 1917.0\n",
       " 1371.0\n",
       " 1336.0\n",
       " 1802.0\n",
       " 1566.0\n",
       " 1878.0\n",
       "  737.0\n",
       " 1998.0\n",
       " 1488.0\n",
       " 1372.0\n",
       " 1715.0\n",
       "    ⋮\n",
       " 1238.0\n",
       " 1588.0\n",
       " 1881.0\n",
       " 1850.0\n",
       " 1298.0\n",
       " 1411.0\n",
       " 1496.0\n",
       "  744.0\n",
       " 1477.0\n",
       " 1459.0\n",
       " 1333.0\n",
       " 1902.0"
      ]
     },
     "execution_count": 5,
     "metadata": {},
     "output_type": "execute_result"
    }
   ],
   "source": [
    "data = readdlm(\"input.txt\")"
   ]
  },
  {
   "cell_type": "code",
   "execution_count": 21,
   "metadata": {},
   "outputs": [
    {
     "name": "stdout",
     "output_type": "stream",
     "text": [
      "1.020099e6\n",
      "1.020099e6\n"
     ]
    }
   ],
   "source": [
    "for i in data\n",
    "    for j in data\n",
    "        if (i+j) == 2020\n",
    "            println(i*j)\n",
    "        end\n",
    "    end\n",
    "end"
   ]
  },
  {
   "cell_type": "code",
   "execution_count": 22,
   "metadata": {},
   "outputs": [
    {
     "name": "stdout",
     "output_type": "stream",
     "text": [
      "4.921488e7\n",
      "i = 1434.0\n",
      "j = 520.0\n",
      "k = 66.0\n",
      "4.921488e7\n",
      "i = 1434.0\n",
      "j = 66.0\n",
      "k = 520.0\n",
      "4.921488e7\n",
      "i = 520.0\n",
      "j = 1434.0\n",
      "k = 66.0\n",
      "4.921488e7\n",
      "i = 520.0\n",
      "j = 66.0\n",
      "k = 1434.0\n",
      "4.921488e7\n",
      "i = 66.0\n",
      "j = 1434.0\n",
      "k = 520.0\n",
      "4.921488e7\n",
      "i = 66.0\n",
      "j = 520.0\n",
      "k = 1434.0\n"
     ]
    }
   ],
   "source": [
    "for i in data\n",
    "    for j in data\n",
    "        for k in data\n",
    "            if (i+j+k) == 2020\n",
    "                println(i*j*k)\n",
    "                @show(i)\n",
    "                @show(j)\n",
    "                @show(k)\n",
    "            end\n",
    "        end\n",
    "    end\n",
    "end"
   ]
  }
 ],
 "metadata": {
  "kernelspec": {
   "display_name": "Julia 1.5.1",
   "language": "julia",
   "name": "julia-1.5"
  },
  "language_info": {
   "file_extension": ".jl",
   "mimetype": "application/julia",
   "name": "julia",
   "version": "1.5.1"
  }
 },
 "nbformat": 4,
 "nbformat_minor": 4
}
